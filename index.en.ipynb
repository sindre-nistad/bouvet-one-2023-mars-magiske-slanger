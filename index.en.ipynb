{
 "cells": [
  {
   "cell_type": "markdown",
   "metadata": {
    "slideshow": {
     "slide_type": "slide"
    }
   },
   "source": [
    "# Magical snakes\n",
    "\n",
    "<center>\n",
    "<figure style=\"display: block;\n",
    "  margin-left: auto;\n",
    "  margin-right: auto;\n",
    "  width: 50%;\n",
    "}\">\n",
    "<img\n",
    "    src=\"images/DALL·E 2023-03-18 20.01.53 - a cartoon snake with a black hoodie typing on a laptop (cleaned).png\"\n",
    "    alt=\"a cartoon snake with a black hoodie typing on a laptop\"\n",
    "    width=\"768px\"\n",
    "/>\n",
    "<footer><small>Created by DALL·E 2 and adjusted by me</small></footer>\n",
    "</figure>\n",
    "</center>"
   ]
  },
  {
   "cell_type": "markdown",
   "metadata": {
    "slideshow": {
     "slide_type": "slide"
    }
   },
   "source": [
    "## Everything is an object\n",
    "Including data, classes, types, and code\n",
    "\n",
    "which are referenced / \"pointed to\" by variables (names)\n"
   ]
  },
  {
   "cell_type": "code",
   "execution_count": null,
   "metadata": {
    "slideshow": {
     "slide_type": "-"
    }
   },
   "outputs": [],
   "source": []
  },
  {
   "cell_type": "markdown",
   "metadata": {
    "slideshow": {
     "slide_type": "notes"
    }
   },
   "source": [
    "```python\n",
    "a = b = 2\n",
    "\n",
    "print(a, b)\n",
    "\n",
    "a = \"Bouvet\"\n",
    "\n",
    "print(a)\n",
    "print(b)\n",
    "```\n"
   ]
  },
  {
   "cell_type": "markdown",
   "metadata": {
    "slideshow": {
     "slide_type": "subslide"
    }
   },
   "source": [
    "## Specimens\n",
    "\n",
    "<center>\n",
    "    <figure>\n",
    "        <img\n",
    "             src=\"https://d38mjcf1nvhlba.cloudfront.net/media/o/1656679102/dsc-3326-1.jpg\"\n",
    "             alt=\"Two penguins at the Aquarium in Bergen. From left to right: Ping Kong, Ealinor Roosivelt\"\n",
    "             style=\"height: 768px;\"\n",
    "        />\n",
    "        <footer><small>Two penguins at the Aquarium in Bergen. From left to right: Ping Kong, Ealinor Roosivelt\n",
    "            <br>&copy; The Aquarium in Bergen</small></footer>\n",
    "    </figure>\n",
    "</center>"
   ]
  },
  {
   "cell_type": "markdown",
   "metadata": {
    "slideshow": {
     "slide_type": "subslide"
    }
   },
   "source": [
    "Much of Python's syntax have methods / functions associated with them.\n",
    "In some circumstances, using them can make the code _much_ easier to read and understand.\n",
    "\n",
    "These, and some other start, and end with `__` (called \"dunder\")."
   ]
  },
  {
   "cell_type": "code",
   "execution_count": null,
   "metadata": {
    "slideshow": {
     "slide_type": "fragment"
    }
   },
   "outputs": [],
   "source": [
    "def __init__(self, name: str):\n",
    "    self._name = name"
   ]
  },
  {
   "cell_type": "markdown",
   "metadata": {
    "slideshow": {
     "slide_type": "subslide"
    }
   },
   "source": [
    "`type` is a function which may give the type of the object, or create a new type depending on how it is called (1 vs 3 arguments)\n",
    "\n",
    "`__new__` is a static method every object have (because they inherit from `object`)\n",
    "\n",
    "There is nothing stopping us from changing the name of the method itself, as long as it has the key `\"__init__\"` in the `dict` we provide `type`."
   ]
  },
  {
   "cell_type": "code",
   "execution_count": null,
   "metadata": {
    "scrolled": true,
    "slideshow": {
     "slide_type": "fragment"
    }
   },
   "outputs": [],
   "source": [
    "Penguin = type(\"Penguin\", (object,), {\n",
    "    \"__init__\": __init__,\n",
    "    \"name\": property(lambda self: self._name)\n",
    "})\n",
    "\n",
    "penguin = Penguin.__new__(Penguin)\n",
    "Penguin.__init__(penguin, \"Pingrid Alexandra\")"
   ]
  },
  {
   "cell_type": "code",
   "execution_count": null,
   "metadata": {
    "slideshow": {
     "slide_type": "subslide"
    }
   },
   "outputs": [],
   "source": [
    "class Penguin:\n",
    "    def __init__(self, name: str):\n",
    "        self._name = name\n",
    "\n",
    "    @property\n",
    "    def name(self):\n",
    "        return self._name\n",
    "        \n",
    "penguin = Penguin(\"Pingrid Alexandra\")\n",
    "\n",
    "print(penguin.name)"
   ]
  },
  {
   "cell_type": "markdown",
   "metadata": {
    "slideshow": {
     "slide_type": "slide"
    }
   },
   "source": [
    "## 🪄 Time for a little deeper (everyday) magic\n",
    "\n",
    "\n",
    "<center>\n",
    "    <figure>\n",
    "        <img\n",
    "             src=\"https://images.unsplash.com/photo-1614767629805-3bbcf6e26c7d?ixlib=rb-4.0.3&ixid=MnwxMjA3fDB8MHxwaG90by1wYWdlfHx8fGVufDB8fHx8&auto=format&fit=crop&w=1760&q=80\"\n",
    "             alt=\"Photograph of various dice with different number of sides laying on a tabletop board\"\n",
    "             style=\"height: 768px;\"\n",
    "        />\n",
    "        <footer><small>Photo by <a href=\"https://unsplash.com/@nika_benedictova?utm_source=unsplash&utm_medium=referral&utm_content=creditCopyText\">Nika Benedictova</a> on <a href=\"https://unsplash.com/s/photos/dice?utm_source=unsplash&utm_medium=referral&utm_content=creditCopyText\">Unsplash</a></small></footer>\n",
    "    </figure>\n",
    "</center>\n",
    "    "
   ]
  },
  {
   "cell_type": "markdown",
   "metadata": {
    "slideshow": {
     "slide_type": "subslide"
    }
   },
   "source": [
    "## 🪄 Time for a little deeper (everyday) magic\n",
    "\n",
    "Many tabletop role playing games uses many different dice. Typically, they have 4, 6, 12, 12, and 20 sides (one of these are not like the others)\n",
    "\n",
    "Let's make one!"
   ]
  },
  {
   "cell_type": "markdown",
   "metadata": {
    "slideshow": {
     "slide_type": "notes"
    }
   },
   "source": [
    "A simple die with `n` sides\n",
    "\n",
    "```python\n",
    "import random\n",
    "import math\n",
    "from typing import Self\n",
    "\n",
    "\n",
    "class Die:\n",
    "    def __init__(self, sides: int):\n",
    "        self.sides = sides\n",
    "\n",
    "    def roll(self) -> int:\n",
    "        # An alternative way of getting a fair roll\n",
    "        # math.floor(random.random() * self.sides) + 1\n",
    "        return random.randrange(1, self.sides + 1)\n",
    "\n",
    "    def __str__(self):\n",
    "        # A common dotation for a die with `n` sides is d<n>\n",
    "        return f\"d{self.sides}\"\n",
    "    \n",
    "    def __repr__(self):\n",
    "        # generally, __repr__ should give a string representation which, if interpreterd\n",
    "        # should create the relevant object (or a copy of it)\n",
    "        # However, in this case, it is more convinient to use the simple represntation now\n",
    "        # If we where to do it properly though, we could write\n",
    "        # return f\"{self.__class__.__name__}({self.sides})\"\n",
    "        return str(self)\n",
    "    \n",
    "    # What about comparison?\n",
    "    # Do we care about care if they are distinct objects, or is it\n",
    "    # sufficient that they have the same number of sides?\n",
    "    def __eq__(self, other: Self):\n",
    "        if not isinstance(other, self.__class__):\n",
    "            return False\n",
    "        return self.sides == other.sides\n",
    "    \n",
    "    def __hash__(self):\n",
    "        # Should not be here if __eq__ is not defined\n",
    "        return hash(str(self))\n",
    "```"
   ]
  },
  {
   "cell_type": "markdown",
   "metadata": {
    "slideshow": {
     "slide_type": "subslide"
    }
   },
   "source": [
    "## 🪄 Time for a little deeper (everyday) magic\n",
    "\n",
    "A single die is well and good, but usually we may need more than one to roll simultaneously\n",
    "For instance when we roll for damage on another creature or monster\n",
    "It can be _very_ tedious to roll a single die over and over, and then summarize all the numbers"
   ]
  },
  {
   "cell_type": "markdown",
   "metadata": {
    "slideshow": {
     "slide_type": "notes"
    }
   },
   "source": [
    "Let's do something about that!\n",
    "After all, that is one of the primary reason humanity invented the computer"
   ]
  },
  {
   "cell_type": "code",
   "execution_count": null,
   "metadata": {
    "slideshow": {
     "slide_type": "fragment"
    }
   },
   "outputs": [],
   "source": []
  },
  {
   "cell_type": "markdown",
   "metadata": {
    "slideshow": {
     "slide_type": "notes"
    }
   },
   "source": [
    "Multiple dice gathered together\n",
    "\n",
    "The reason we use inheritance is laziness;\n",
    "I don't have to rewrite mush of the code, and you don't have to watch me doing it.\n",
    "There is also just so much vertical space on these slides\n",
    "\n",
    "\n",
    "```python\n",
    "class Dice(Die):\n",
    "    def __init__(self, sides: int, num: int = 1):\n",
    "        super().__init__(sides)\n",
    "        self.num = num\n",
    "\n",
    "    def __rmul__(self, other: int):\n",
    "        if not isinstance(other, int):\n",
    "            # NOTE: It RETURNS a value, and does not throw an exception\n",
    "            # ref. https://docs.python.org/3/library/constants.html#NotImplemented\n",
    "            return NotImplemented\n",
    "        return self.__class__(self.sides, other)\n",
    "\n",
    "    def roll(self):\n",
    "        total = 0\n",
    "        for _ in range(self.num):\n",
    "            total += super().roll()\n",
    "        return total\n",
    "    \n",
    "    def __str__(self):\n",
    "        return f\"{self.num if self.num > 1 else ''}{super().__str__()}\"\n",
    "\n",
    "```\n",
    "\n",
    "examples\n",
    "\n",
    "```python\n",
    "d10 = Dice(10)\n",
    "_6d10 = 6 * d10\n",
    "_6d10.roll()    \n",
    "```"
   ]
  },
  {
   "cell_type": "markdown",
   "metadata": {
    "slideshow": {
     "slide_type": "subslide"
    }
   },
   "source": [
    "## 🪄 Time for a little deeper (everyday) magic\n",
    "\n",
    "Sometimes, we have a (constant) modifier.\n",
    "It can be positive, or negative"
   ]
  },
  {
   "cell_type": "code",
   "execution_count": null,
   "metadata": {
    "slideshow": {
     "slide_type": "fragment"
    }
   },
   "outputs": [],
   "source": []
  },
  {
   "cell_type": "markdown",
   "metadata": {
    "slideshow": {
     "slide_type": "notes"
    }
   },
   "source": [
    "Dice with modifiers\n",
    "\n",
    "\n",
    "```python\n",
    "class Dice(Dice):\n",
    "    def __init__(self, sides: int, num: int = 1, modifier: int = 0):\n",
    "        super().__init__(sides, num)\n",
    "        self.modifier = modifier\n",
    "    \n",
    "    def __add__(self, other):\n",
    "        return self.__class__(self.sides, self.num, other)\n",
    "    \n",
    "    def __str__(self):\n",
    "        modifier = \"\"\n",
    "        if self.modifier > 0:\n",
    "            modifier = f\" + {self.modifier}\"\n",
    "        elif self.modifier < 0:\n",
    "            modifier = f\" - {abs(modifier)}\"\n",
    "        return super().__str__() + modifier\n",
    "    \n",
    "    def roll(self):\n",
    "        return super().roll() + self.modifier\n",
    "\n",
    "    # Using `.roll()` is a bit tedious.\n",
    "    # How about writing `()` instead?\n",
    "    def __call__(self):\n",
    "        return self.roll()\n",
    "```\n",
    "\n",
    "Examples\n",
    "\n",
    "```python\n",
    "\n",
    "die = 2 * Dice(12) + 2\n",
    "```"
   ]
  },
  {
   "cell_type": "markdown",
   "metadata": {
    "slideshow": {
     "slide_type": "slide"
    }
   },
   "source": [
    "## 🧙‍♂️Time for (real) magic\n",
    "\n",
    "Wouldn't it be nice to write\n",
    "\n",
    "```python\n",
    "Dice._4d12\n",
    "```\n",
    "\n",
    "and have a finished result written to the console?"
   ]
  },
  {
   "cell_type": "markdown",
   "metadata": {
    "slideshow": {
     "slide_type": "subslide"
    }
   },
   "source": [
    "## 🧙‍♂️Time for (real) magic"
   ]
  },
  {
   "cell_type": "code",
   "execution_count": null,
   "metadata": {
    "slideshow": {
     "slide_type": "fragment"
    }
   },
   "outputs": [],
   "source": [
    "import re"
   ]
  },
  {
   "cell_type": "code",
   "execution_count": null,
   "metadata": {
    "slideshow": {
     "slide_type": "fragment"
    }
   },
   "outputs": [],
   "source": [
    "_regex = re.compile(r\"^(?P<number>\\d+)?d(?P<sides>\\d+) *((?P<sign>[-+]) *(?P<modifier>\\d+)?)?$\")\n",
    "_Dice = Dice  # We will redefine `Dice` later (again), but need a reference to it here"
   ]
  },
  {
   "cell_type": "code",
   "execution_count": null,
   "metadata": {
    "slideshow": {
     "slide_type": "fragment"
    }
   },
   "outputs": [],
   "source": [
    "def parse(text: str) -> Dice:\n",
    "    match = _regex.match(text)\n",
    "    if match is None:\n",
    "        raise ValueError(\"Invalid format\")\n",
    "    match = match.groupdict()\n",
    "    sides = int(match[\"sides\"])\n",
    "    number = int(match.get(\"number\", 1))\n",
    "    modifier = int(match.get(\"modifier\", 0))\n",
    "    if match[\"sign\"] == \"-\":\n",
    "        modifier = -modifier\n",
    "    return _Dice(sides, number, modifier)"
   ]
  },
  {
   "cell_type": "markdown",
   "metadata": {
    "slideshow": {
     "slide_type": "notes"
    }
   },
   "source": [
    "Content warning (here be regualr expressions)\n",
    "\n",
    "Here is a small regualr expressions. It is not very magical (at least when you're the one writing it, and you remember what it does)"
   ]
  },
  {
   "cell_type": "code",
   "execution_count": null,
   "metadata": {
    "slideshow": {
     "slide_type": "subslide"
    }
   },
   "outputs": [],
   "source": []
  },
  {
   "cell_type": "markdown",
   "metadata": {
    "slideshow": {
     "slide_type": "notes"
    }
   },
   "source": [
    "```python\n",
    "class Dice:\n",
    "    def __getattr__(self, item: str):\n",
    "        item = (\n",
    "            item\n",
    "            .removeprefix(\"_\")\n",
    "            .replace(\"_\", \" \")\n",
    "            .replace(\"p\", \"+\")\n",
    "            .replace(\"m\", \"-\")\n",
    "        )\n",
    "        return parse(item)\n",
    "```\n",
    "\n",
    "Unfortunately, we have to instantiate the object before it behaves as expected.\n",
    "There is a solution for such problems.\n",
    "Since `__getattr__` is defined on the class, but used on instances, we simply need to do the equivalent on the class itself.\n",
    "\n",
    "```python\n",
    "class Meta(type):\n",
    "    def __getattr__(cls, item: str):\n",
    "        item = (\n",
    "            item\n",
    "            .removeprefix(\"_\")\n",
    "            .replace(\"_\", \" \")\n",
    "            .replace(\"p\", \"+\")\n",
    "            .replace(\"m\", \"-\")\n",
    "        )\n",
    "        return parse(item)\n",
    "\n",
    "class Dice(metaclass=Meta):\n",
    "    pass\n",
    "```\n",
    "\n",
    "Using the `@staticmethod`, or `@classmethod` is tempting, but unfortunately does not do what we want;\n",
    "the arbitrary attribute is still not defined on the class\n",
    "\n",
    "```python\n",
    "class Dice:\n",
    "    @staticmethod\n",
    "    def __getattr__(item: str):\n",
    "        item = (\n",
    "            item\n",
    "            .removeprefix(\"_\")\n",
    "            .replace(\"_\", \" \")\n",
    "            .replace(\"p\", \"+\")\n",
    "            .replace(\"m\", \"-\")\n",
    "        )\n",
    "        return parse(item)\n",
    "```\n"
   ]
  }
 ],
 "metadata": {
  "celltoolbar": "Slideshow",
  "kernelspec": {
   "display_name": "Python 3 (ipykernel)",
   "language": "python",
   "name": "python3"
  },
  "language_info": {
   "codemirror_mode": {
    "name": "ipython",
    "version": 3
   },
   "file_extension": ".py",
   "mimetype": "text/x-python",
   "name": "python",
   "nbconvert_exporter": "python",
   "pygments_lexer": "ipython3",
   "version": "3.11.3"
  }
 },
 "nbformat": 4,
 "nbformat_minor": 4
}
