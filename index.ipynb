{
 "cells": [
  {
   "cell_type": "markdown",
   "metadata": {
    "slideshow": {
     "slide_type": "slide"
    }
   },
   "source": [
    "# Magiske slanger\n",
    "\n",
    "<center>\n",
    "<figure style=\"display: block;\n",
    "  margin-left: auto;\n",
    "  margin-right: auto;\n",
    "  width: 50%;\n",
    "}\">\n",
    "<img\n",
    "    src=\"images/DALL·E 2023-03-18 20.01.53 - a cartoon snake with a black hoodie typing on a laptop (cleaned).png\"\n",
    "    alt=\"a cartoon snake with a black hoodie typing on a laptop\"\n",
    "    width=\"768px\"\n",
    "/>\n",
    "<footer><small>Lagd med DALL·E 2 og justert av meg</small></footer>\n",
    "</figure>\n",
    "</center>"
   ]
  },
  {
   "cell_type": "markdown",
   "metadata": {
    "slideshow": {
     "slide_type": "slide"
    }
   },
   "source": [
    "## Alt er objekter\n",
    "Inkludert data, klasser, typer, funksjoner og kode\n",
    "\n",
    "som blir pekt til av variabler (navn)\n"
   ]
  },
  {
   "cell_type": "code",
   "execution_count": null,
   "metadata": {
    "slideshow": {
     "slide_type": "-"
    }
   },
   "outputs": [],
   "source": []
  },
  {
   "cell_type": "markdown",
   "metadata": {
    "slideshow": {
     "slide_type": "notes"
    }
   },
   "source": [
    "\n",
    "```python\n",
    "a = b = 2\n",
    "\n",
    "print(a, b)\n",
    "\n",
    "a = \"Bouvet\"\n",
    "\n",
    "print(a)\n",
    "print(b)\n",
    "```\n"
   ]
  },
  {
   "cell_type": "markdown",
   "metadata": {
    "slideshow": {
     "slide_type": "subslide"
    }
   },
   "source": [
    "## Eksempl(ar)er\n",
    "\n",
    "<center>\n",
    "    <figure>\n",
    "        <img\n",
    "             src=\"https://d38mjcf1nvhlba.cloudfront.net/media/o/1656679102/dsc-3326-1.jpg\"\n",
    "             alt=\"To pingvier på Akvariet i Bergen. Ping Kong til venstre og Ealinor Roosivelt til høyre\"\n",
    "             style=\"height: 768px;\"\n",
    "        />\n",
    "        <footer><small>To pingvier på Akvariet i Bergen. Ping Kong til venstre og Ealinor Roosivelt til høyre\n",
    "            <br>&copy; Akvariet i Bergen</small></footer>\n",
    "    </figure>\n",
    "</center>"
   ]
  },
  {
   "cell_type": "markdown",
   "metadata": {
    "slideshow": {
     "slide_type": "subslide"
    }
   },
   "source": [
    "Mye av syntaksen til Python har egne funksjoner / metoder assisiert med seg.\n",
    "I mange tilfeller, gjør det det _mye_ lettere å lese og å forstå hva koden gjør.\n",
    "\n",
    "Mange av disse metodene begynner og slutter med `__` (kalt \"dunder\")."
   ]
  },
  {
   "cell_type": "markdown",
   "metadata": {
    "slideshow": {
     "slide_type": "notes"
    }
   },
   "source": [
    "`type` er en funksjon som kan gi tilbake typen på et objekt, eller lage en ny type (1 vs. 3 argumenter)\n",
    "\n",
    "`__new__` er en statisk metode alle objekter har (fordi alle arver fra `object`)\n",
    "\n",
    "Det er ingenting som hinder oss fra å endre navnene på selve metodene, så lenge den har navnet `__ini__` i `dict`-en vi gir til `type`"
   ]
  },
  {
   "cell_type": "code",
   "execution_count": 34,
   "metadata": {
    "slideshow": {
     "slide_type": "fragment"
    }
   },
   "outputs": [],
   "source": [
    "def __init__(self, name: str):\n",
    "    self._name = name"
   ]
  },
  {
   "cell_type": "code",
   "execution_count": 35,
   "metadata": {
    "scrolled": true,
    "slideshow": {
     "slide_type": "fragment"
    }
   },
   "outputs": [],
   "source": [
    "Penguin = type(\"Penguin\", (object,), {\n",
    "    \"__init__\": __init__,\n",
    "    \"name\": property(lambda self: self._name)\n",
    "})\n",
    "\n",
    "penguin = Penguin.__new__(Penguin)\n",
    "Penguin.__init__(penguin, \"Pingrid Alexandra\")"
   ]
  },
  {
   "cell_type": "code",
   "execution_count": null,
   "metadata": {
    "slideshow": {
     "slide_type": "subslide"
    }
   },
   "outputs": [],
   "source": [
    "class Penguin:\n",
    "    def __init__(self, name: str):\n",
    "        self._name = name\n",
    "\n",
    "    @property\n",
    "    def name(self):\n",
    "        return self._name\n",
    "        \n",
    "penguin = Penguin(\"Pingrid Alexandra\")\n",
    "\n",
    "print(penguin.name)"
   ]
  },
  {
   "cell_type": "markdown",
   "metadata": {
    "slideshow": {
     "slide_type": "slide"
    }
   },
   "source": [
    "## 🪄 Tid for litt dypere (hverdags) magi\n",
    "\n",
    "\n",
    "<center>\n",
    "    <figure>\n",
    "        <img\n",
    "             src=\"https://images.unsplash.com/photo-1614767629805-3bbcf6e26c7d?ixlib=rb-4.0.3&ixid=MnwxMjA3fDB8MHxwaG90by1wYWdlfHx8fGVufDB8fHx8&auto=format&fit=crop&w=1760&q=80\"\n",
    "             alt=\"Foto av forskjellige terninger med forsjellig antall sider på et spillprett\"\n",
    "             style=\"height: 768px;\"\n",
    "        />\n",
    "        <footer><small>Foto av <a href=\"https://unsplash.com/@nika_benedictova?utm_source=unsplash&utm_medium=referral&utm_content=creditCopyText\">Nika Benedictova</a> på <a href=\"https://unsplash.com/s/photos/dice?utm_source=unsplash&utm_medium=referral&utm_content=creditCopyText\">Unsplash</a></small></footer>\n",
    "    </figure>\n",
    "</center>\n",
    "    "
   ]
  },
  {
   "cell_type": "markdown",
   "metadata": {
    "slideshow": {
     "slide_type": "subslide"
    }
   },
   "source": [
    "## 🪄 Tid for litt dypere (hverdags) magi"
   ]
  },
  {
   "cell_type": "code",
   "execution_count": 46,
   "metadata": {
    "slideshow": {
     "slide_type": "fragment"
    }
   },
   "outputs": [],
   "source": []
  },
  {
   "cell_type": "markdown",
   "metadata": {
    "slideshow": {
     "slide_type": "notes"
    }
   },
   "source": [
    "```python\n",
    "import random\n",
    "import math\n",
    "\n",
    "class Dice:\n",
    "    def __init__(self, sides: int):\n",
    "        self.sides = sides\n",
    "\n",
    "    def roll(self) -> int:\n",
    "        # math.floor(random.random() * self.sides) + 1\n",
    "        return random.randrange(1, self.sides + 1)\n",
    "```"
   ]
  },
  {
   "cell_type": "code",
   "execution_count": null,
   "metadata": {
    "slideshow": {
     "slide_type": "slide"
    }
   },
   "outputs": [],
   "source": []
  },
  {
   "cell_type": "code",
   "execution_count": null,
   "metadata": {
    "scrolled": true
   },
   "outputs": [],
   "source": [
    "d = Dice(10)\n",
    "d.roll()"
   ]
  },
  {
   "cell_type": "code",
   "execution_count": null,
   "metadata": {},
   "outputs": [],
   "source": [
    "import re\n",
    "from collections import defaultdict\n",
    "from collections.abc import Iterable\n",
    "import random\n",
    "import math\n",
    "\n",
    "\n",
    "class Die:\n",
    "    def __init__(self, sides: int):\n",
    "        self.sides = sides\n",
    "\n",
    "    def roll(self):\n",
    "        return random.randrange(1, self.sides + 1)\n",
    "\n",
    "    def __repr__(self):\n",
    "        return f\"d{self.sides}: {self.roll()}\"\n",
    "\n",
    "    def __rmul__(self, other: int):\n",
    "        return Dice([self] * other)\n",
    "\n",
    "\n",
    "class Dice(list):\n",
    "    def __init__(self, dice, *rest):\n",
    "        if not isinstance(dice, Iterable):\n",
    "            dice = [dice]\n",
    "        dice += list(rest)\n",
    "        if not all(isinstance(die, Die) for die in dice):\n",
    "            raise ValueError(\"Some items are not dice\")\n",
    "        super().__init__(dice)\n",
    "\n",
    "    def roll(self):\n",
    "        return sum(die.roll() for die in self)\n",
    "\n",
    "    def __repr__(self):\n",
    "        dice = defaultdict(lambda: 0)\n",
    "        for die in self:  # type: Die\n",
    "            dice[die.sides] += 1\n",
    "        sides = list(dice.keys())\n",
    "        sides.sort()\n",
    "        return \" + \".join(f\"{dice[num_sides]}d{num_sides}\" for num_sides in sides)\n"
   ]
  },
  {
   "cell_type": "code",
   "execution_count": null,
   "metadata": {},
   "outputs": [],
   "source": [
    "d6 = Die(6)\n",
    "\n",
    "d6.roll()\n",
    "\n",
    "_3d6 = 3 *d6\n",
    "_3d6"
   ]
  },
  {
   "cell_type": "code",
   "execution_count": null,
   "metadata": {},
   "outputs": [],
   "source": []
  },
  {
   "cell_type": "code",
   "execution_count": null,
   "metadata": {},
   "outputs": [],
   "source": []
  },
  {
   "cell_type": "code",
   "execution_count": null,
   "metadata": {},
   "outputs": [],
   "source": [
    "import inspect\n",
    "import secrets\n",
    "\n",
    "\n",
    "def revile_thine_secret(func):\n",
    "    def wrapper(*args, **kwargs):\n",
    "        return func(*args, **kwargs)\n",
    "    return wrapper\n",
    "\n",
    "\n",
    "#@revile_thine_secret\n",
    "def boring():\n",
    "    secret = secrets.token_hex(64)\n",
    "    return None\n"
   ]
  },
  {
   "cell_type": "code",
   "execution_count": null,
   "metadata": {},
   "outputs": [],
   "source": [
    "for item in boring.__code__.co_positions():\n",
    "    print(item)"
   ]
  },
  {
   "cell_type": "code",
   "execution_count": null,
   "metadata": {},
   "outputs": [],
   "source": [
    "class Dice:\n",
    "    def __init__(self, sides: int):\n",
    "        self.sides = sides\n",
    "\n",
    "    def roll(self):\n",
    "        return random.choice(range(1, self.sides + 1))\n",
    "\n",
    "    def __repr__(self):\n",
    "        return f\"d{self.sides}\""
   ]
  },
  {
   "cell_type": "code",
   "execution_count": null,
   "metadata": {},
   "outputs": [],
   "source": [
    "class Dice(Dice):\n",
    "    def __init__(self, sides: int):\n",
    "        super().__init__(sides)\n",
    "        self.num = 1\n",
    "\n",
    "    def roll(self):\n",
    "        total = 0\n",
    "        for _ in range(self.num):\n",
    "            total += super().roll()\n",
    "        return total\n",
    "\n",
    "    def __repr__(self):\n",
    "        return str(self.num) if self.num > 1 else '' + super().__repr__()\n",
    "\n",
    "    def __rmul__(self, other: int):\n",
    "        if not isinstance(other, int):\n",
    "            raise ValueError\n",
    "        d = Dice(self.sides)\n",
    "        d.num = other\n",
    "        return d"
   ]
  },
  {
   "cell_type": "code",
   "execution_count": null,
   "metadata": {},
   "outputs": [],
   "source": [
    "d = Dice(6)\n",
    "(6 * d).roll()"
   ]
  },
  {
   "cell_type": "code",
   "execution_count": null,
   "metadata": {},
   "outputs": [],
   "source": [
    "import re\n",
    "from typing import Self\n",
    "\n",
    "\n",
    "class Dice:\n",
    "    def __init__(self, sides: int, num: int = 1, modifier: int = 0):\n",
    "        if num < 1:\n",
    "            raise ValueError(\"The must be at least one die\")\n",
    "        self.sides = sides\n",
    "        self.num = num\n",
    "        self.modifier = modifier\n",
    "\n",
    "    def roll(self):\n",
    "        total = 0\n",
    "        for die in range(self.num):\n",
    "            total += random.choice(range(1, self.sides + 1))\n",
    "        total += self.modifier\n",
    "        return total\n",
    "\n",
    "    def __call__(self):\n",
    "        return self.roll()\n",
    "\n",
    "    def __repr__(self):\n",
    "        representation = f\"d{self.sides}\"\n",
    "        if self.modifier > 0:\n",
    "            representation += f\" + {self.modifier}\"\n",
    "        elif self.modifier < 0:\n",
    "            representation += f\" - {abs(self.modifier)}\"\n",
    "\n",
    "        if self.num > 1:\n",
    "            representation = f\"{self.num}{representation}\"\n",
    "        return representation\n",
    "\n",
    "    _regex = re.compile(r\"^(?P<number>\\d+)?d(?P<sides>\\d+) *((?P<sign>[-+]) *(?P<modifier>\\d+)?)?$\")\n",
    "\n",
    "    @classmethod\n",
    "    def parse(cls, text: str) -> Self:\n",
    "        match = cls._regex.match(text)\n",
    "        if match is None:\n",
    "            raise ValueError(\"Invalid format\")\n",
    "        number = match[\"number\"]\n",
    "        if number is None:\n",
    "            number = 1\n",
    "        else:\n",
    "            number = int(number)\n",
    "        sides = int(match[\"sides\"])\n",
    "        modifier = int(match[\"modifier\"])\n",
    "        if match[\"sign\"] == \"-\":\n",
    "            modifier = -modifier\n",
    "        return cls(sides, number, modifier)\n",
    "\n"
   ]
  },
  {
   "cell_type": "code",
   "execution_count": null,
   "metadata": {},
   "outputs": [],
   "source": [
    "d = Dice(10, 2, -1)"
   ]
  },
  {
   "cell_type": "code",
   "execution_count": null,
   "metadata": {},
   "outputs": [],
   "source": [
    "d = Dice.parse(\"3d12 -3\")\n",
    "d"
   ]
  },
  {
   "cell_type": "code",
   "execution_count": null,
   "metadata": {},
   "outputs": [],
   "source": [
    "import re\n",
    "_regex = re.compile(r\"^(?P<number>\\d+)?d(?P<sides>\\d+) *((?P<sign>[-+]) *(?P<modifier>\\d+)?)?$\")"
   ]
  },
  {
   "cell_type": "code",
   "execution_count": null,
   "metadata": {},
   "outputs": [],
   "source": [
    "match = _regex.match(\"d6 +2\")"
   ]
  },
  {
   "cell_type": "code",
   "execution_count": null,
   "metadata": {},
   "outputs": [],
   "source": [
    "match.groupdict()"
   ]
  },
  {
   "cell_type": "code",
   "execution_count": null,
   "metadata": {},
   "outputs": [],
   "source": [
    "int(None)"
   ]
  },
  {
   "cell_type": "code",
   "execution_count": null,
   "metadata": {},
   "outputs": [],
   "source": [
    "class Interesting(type(open)):\n",
    "    pass"
   ]
  },
  {
   "cell_type": "code",
   "execution_count": null,
   "metadata": {},
   "outputs": [],
   "source": []
  },
  {
   "cell_type": "markdown",
   "metadata": {
    "slideshow": {
     "slide_type": "notes"
    }
   },
   "source": [
    "```python\n",
    "import random\n",
    "\n",
    "\n",
    "class Dice:\n",
    "    def __init__(self, sides: int):\n",
    "        self.sides = sides\n",
    "\n",
    "    def roll():\n",
    "        return random.randrange(1, self.sides + 1)\n",
    "```"
   ]
  },
  {
   "cell_type": "markdown",
   "metadata": {
    "slideshow": {
     "slide_type": "notes"
    }
   },
   "source": [
    "```python\n",
    "import random\n",
    "\n",
    "\n",
    "class Dice:\n",
    "    def __init__(self, sides: int):\n",
    "        self.sides = sides\n",
    "\n",
    "    def roll(self):\n",
    "        random.randrage(1, self.sides + 1)\n",
    "        \n",
    "```"
   ]
  },
  {
   "cell_type": "code",
   "execution_count": 5,
   "metadata": {
    "slideshow": {
     "slide_type": "notes"
    }
   },
   "outputs": [],
   "source": [
    "class Dice:\n",
    "    def __init__(self, sides: int):\n",
    "        self.sides = sides\n",
    "\n",
    "    def roll(self):\n",
    "        random.randrage(1, self.sides + 1)"
   ]
  },
  {
   "cell_type": "code",
   "execution_count": null,
   "metadata": {
    "slideshow": {
     "slide_type": "notes"
    }
   },
   "outputs": [],
   "source": [
    "def __init__(self, name: str):\n",
    "    self.name = name\n",
    "\n",
    "Penguin = type(\"Penguin\", (object,), {\n",
    "    \"__init__\": __init__,\n",
    "})\n",
    "\n",
    "p = Penguin(\"Pingu\")"
   ]
  }
 ],
 "metadata": {
  "celltoolbar": "Slideshow",
  "kernelspec": {
   "display_name": "Python 3 (ipykernel)",
   "language": "python",
   "name": "python3"
  },
  "language_info": {
   "codemirror_mode": {
    "name": "ipython",
    "version": 3
   },
   "file_extension": ".py",
   "mimetype": "text/x-python",
   "name": "python",
   "nbconvert_exporter": "python",
   "pygments_lexer": "ipython3",
   "version": "3.11.2"
  }
 },
 "nbformat": 4,
 "nbformat_minor": 1
}
