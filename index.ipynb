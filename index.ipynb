{
 "cells": [
  {
   "cell_type": "markdown",
   "metadata": {
    "slideshow": {
     "slide_type": "slide"
    }
   },
   "source": [
    "# Magiske slanger\n",
    "\n",
    "<center>\n",
    "<figure style=\"display: block;\n",
    "  margin-left: auto;\n",
    "  margin-right: auto;\n",
    "  width: 50%;\n",
    "}\">\n",
    "<img\n",
    "    src=\"images/DALL·E 2023-03-18 20.01.53 - a cartoon snake with a black hoodie typing on a laptop (cleaned).png\"\n",
    "    alt=\"a cartoon snake with a black hoodie typing on a laptop\"\n",
    "    width=\"768px\"\n",
    "/>\n",
    "<footer><small>Lagd med DALL·E 2 og justert av meg</small></footer>\n",
    "</figure>\n",
    "</center>"
   ]
  },
  {
   "cell_type": "markdown",
   "metadata": {
    "slideshow": {
     "slide_type": "slide"
    }
   },
   "source": [
    "## Alt er objekter\n",
    "Inkludert data, klasser, typer, funksjoner og kode\n",
    "\n",
    "som blir pekt til av variabler (navn)\n"
   ]
  },
  {
   "cell_type": "code",
   "execution_count": null,
   "metadata": {
    "slideshow": {
     "slide_type": "-"
    }
   },
   "outputs": [],
   "source": []
  },
  {
   "cell_type": "markdown",
   "metadata": {
    "slideshow": {
     "slide_type": "notes"
    }
   },
   "source": [
    "\n",
    "```python\n",
    "a = b = 2\n",
    "\n",
    "print(a, b)\n",
    "\n",
    "a = \"Bouvet\"\n",
    "\n",
    "print(a)\n",
    "print(b)\n",
    "```\n"
   ]
  },
  {
   "cell_type": "markdown",
   "metadata": {
    "slideshow": {
     "slide_type": "subslide"
    }
   },
   "source": [
    "## Eksempl(ar)er\n",
    "\n",
    "<center>\n",
    "    <figure>\n",
    "        <img\n",
    "             src=\"https://d38mjcf1nvhlba.cloudfront.net/media/o/1656679102/dsc-3326-1.jpg\"\n",
    "             alt=\"To pingvier på Akvariet i Bergen. Ping Kong til venstre og Ealinor Roosivelt til høyre\"\n",
    "             style=\"height: 768px;\"\n",
    "        />\n",
    "        <footer><small>To pingvier på Akvariet i Bergen. Ping Kong til venstre og Ealinor Roosivelt til høyre\n",
    "            <br>&copy; Akvariet i Bergen</small></footer>\n",
    "    </figure>\n",
    "</center>"
   ]
  },
  {
   "cell_type": "markdown",
   "metadata": {
    "slideshow": {
     "slide_type": "subslide"
    }
   },
   "source": [
    "Mye av syntaksen til Python har egne funksjoner / metoder assisiert med seg.\n",
    "I mange tilfeller, gjør det det _mye_ lettere å lese og å forstå hva koden gjør.\n",
    "\n",
    "Mange av disse metodene begynner og slutter med `__` (kalt \"dunder\")."
   ]
  },
  {
   "cell_type": "markdown",
   "metadata": {
    "slideshow": {
     "slide_type": "notes"
    }
   },
   "source": [
    "`type` er en funksjon som kan gi tilbake typen på et objekt, eller lage en ny type (1 vs. 3 argumenter)\n",
    "\n",
    "`__new__` er en statisk metode alle objekter har (fordi alle arver fra `object`)\n",
    "\n",
    "Det er ingenting som hinder oss fra å endre navnene på selve metodene, så lenge den har navnet `__ini__` i `dict`-en vi gir til `type`"
   ]
  },
  {
   "cell_type": "code",
   "execution_count": null,
   "metadata": {
    "slideshow": {
     "slide_type": "fragment"
    }
   },
   "outputs": [],
   "source": [
    "def __init__(self, name: str):\n",
    "    self._name = name"
   ]
  },
  {
   "cell_type": "code",
   "execution_count": null,
   "metadata": {
    "scrolled": true,
    "slideshow": {
     "slide_type": "fragment"
    }
   },
   "outputs": [],
   "source": [
    "Penguin = type(\"Penguin\", (object,), {\n",
    "    \"__init__\": __init__,\n",
    "    \"name\": property(lambda self: self._name)\n",
    "})\n",
    "\n",
    "penguin = Penguin.__new__(Penguin)\n",
    "Penguin.__init__(penguin, \"Pingrid Alexandra\")"
   ]
  },
  {
   "cell_type": "code",
   "execution_count": null,
   "metadata": {
    "slideshow": {
     "slide_type": "subslide"
    }
   },
   "outputs": [],
   "source": [
    "class Penguin:\n",
    "    def __init__(self, name: str):\n",
    "        self._name = name\n",
    "\n",
    "    @property\n",
    "    def name(self):\n",
    "        return self._name\n",
    "        \n",
    "penguin = Penguin(\"Pingrid Alexandra\")\n",
    "\n",
    "print(penguin.name)"
   ]
  },
  {
   "cell_type": "markdown",
   "metadata": {
    "slideshow": {
     "slide_type": "slide"
    }
   },
   "source": [
    "## 🪄 Tid for litt dypere (hverdags) magi\n",
    "\n",
    "\n",
    "<center>\n",
    "    <figure>\n",
    "        <img\n",
    "             src=\"https://images.unsplash.com/photo-1614767629805-3bbcf6e26c7d?ixlib=rb-4.0.3&ixid=MnwxMjA3fDB8MHxwaG90by1wYWdlfHx8fGVufDB8fHx8&auto=format&fit=crop&w=1760&q=80\"\n",
    "             alt=\"Foto av forskjellige terninger med forsjellig antall sider på et spillprett\"\n",
    "             style=\"height: 768px;\"\n",
    "        />\n",
    "        <footer><small>Foto av <a href=\"https://unsplash.com/@nika_benedictova?utm_source=unsplash&utm_medium=referral&utm_content=creditCopyText\">Nika Benedictova</a> på <a href=\"https://unsplash.com/s/photos/dice?utm_source=unsplash&utm_medium=referral&utm_content=creditCopyText\">Unsplash</a></small></footer>\n",
    "    </figure>\n",
    "</center>\n",
    "    "
   ]
  },
  {
   "cell_type": "markdown",
   "metadata": {
    "slideshow": {
     "slide_type": "subslide"
    }
   },
   "source": [
    "## 🪄 Tid for litt dypere (hverdags) magi\n",
    "\n",
    "I mange rollespill, har man forskjellige terninger, typisk med 4, 6, 10, 12 og 20 sider\n",
    "(én av disse er ikke som de andre)\n",
    "\n",
    "La oss lage en!"
   ]
  },
  {
   "cell_type": "code",
   "execution_count": null,
   "metadata": {
    "slideshow": {
     "slide_type": "fragment"
    }
   },
   "outputs": [],
   "source": []
  },
  {
   "cell_type": "markdown",
   "metadata": {
    "slideshow": {
     "slide_type": "notes"
    }
   },
   "source": [
    "Enkel terning med `n` sider\n",
    "\n",
    "```python\n",
    "import random\n",
    "import math\n",
    "from typing import Self\n",
    "\n",
    "\n",
    "class Dice:\n",
    "    def __init__(self, sides: int):\n",
    "        self.sides = sides\n",
    "\n",
    "    def roll(self) -> int:\n",
    "        # Alternativ måte å gjøre det på\n",
    "        # math.floor(random.random() * self.sides) + 1\n",
    "        return random.randrange(1, self.sides + 1)\n",
    "\n",
    "    def __str__(self):\n",
    "        # en mye brukt notasjon er d<s>\n",
    "        return f\"d{self.sides}\"\n",
    "    \n",
    "    def __repr__(self):\n",
    "        # generelt, bør __repr__ gi tilbake en streng som vil lage selve objektet,\n",
    "        # men det ser ikke like fint ut her\n",
    "        # Hvis vi skulle gjort det, kan det gjøres slik\n",
    "        # return f\"{self.__class__.__name__}({self.sides})\"\n",
    "        return str(self)\n",
    "    \n",
    "    # Hva med sammenligning;\n",
    "    # bryr vi oss om terningene er distinkte objekter, eller holder det med\n",
    "    # at de har samme antall sider?\n",
    "    def __eq__(self, other: Self):\n",
    "        if not isinstance(other, self.__class__):\n",
    "            return False\n",
    "        return self.sides == other.sides\n",
    "    \n",
    "    def __hash__(self):\n",
    "        # Should not be here if __eq__ is not defined\n",
    "        return hash(str(self))\n",
    "\n",
    "```"
   ]
  },
  {
   "cell_type": "markdown",
   "metadata": {
    "slideshow": {
     "slide_type": "subslide"
    }
   },
   "source": [
    "## 🪄 Tid for litt dypere (hverdags) magi\n",
    "\n",
    "Én terning er fint det, men man har gjerne felre av samme type og triller dem samtidig.\n",
    "For eksempel for å gjøre skade på et annet vesen.\n",
    "Det kan bli fort bli mange terninger å trille og å summere."
   ]
  },
  {
   "cell_type": "markdown",
   "metadata": {
    "slideshow": {
     "slide_type": "notes"
    }
   },
   "source": [
    "La oss gjøre noe med det. Det er jo en av grunnene til at menneskeheten fant opp regnemaskinen."
   ]
  },
  {
   "cell_type": "code",
   "execution_count": null,
   "metadata": {
    "slideshow": {
     "slide_type": "fragment"
    }
   },
   "outputs": [],
   "source": []
  },
  {
   "cell_type": "markdown",
   "metadata": {
    "slideshow": {
     "slide_type": "notes"
    }
   },
   "source": [
    "Flere terninger samlet\n",
    "\n",
    "Grunnen til at vi arver her, er latskap; jeg slipper å skrive koden på nytt og den blir mer kompakt.\n",
    "\n",
    "\n",
    "```python\n",
    "class Dice(Dice):\n",
    "    def __init__(self, sides: int, num: int = 1):\n",
    "        super().__init__(sides)\n",
    "        self.num = num\n",
    "\n",
    "    def __rmul__(self, other: int):\n",
    "        if not isinstance(other, int):\n",
    "            # NB: Den returnerer og kaster ikke et unntak!\n",
    "            return NotImplemented\n",
    "        return self.__class__(self.sides, other)\n",
    "\n",
    "    def roll(self):\n",
    "        total = 0\n",
    "        for _ in range(self.num):\n",
    "            total += super().roll()\n",
    "        return total\n",
    "    \n",
    "    def __str__(self):\n",
    "        return f\"{self.num if self.num > 1 else ''}{super().__str__()}\"\n",
    "\n",
    "```\n",
    "\n",
    "eksempler\n",
    "\n",
    "```python\n",
    "d10 = Dice(10)\n",
    "_6d10 = 6 * d10\n",
    "_6d10.roll()    \n",
    "```"
   ]
  },
  {
   "cell_type": "markdown",
   "metadata": {
    "slideshow": {
     "slide_type": "subslide"
    }
   },
   "source": [
    "## 🪄 Tid for litt dypere (hverdags) magi\n",
    "\n",
    "Noen handliger har også et fast tillegg, eller fratrekk."
   ]
  },
  {
   "cell_type": "code",
   "execution_count": null,
   "metadata": {
    "slideshow": {
     "slide_type": "fragment"
    }
   },
   "outputs": [],
   "source": []
  },
  {
   "cell_type": "markdown",
   "metadata": {
    "slideshow": {
     "slide_type": "notes"
    }
   },
   "source": [
    "Terninger med modifikator\n",
    "\n",
    "\n",
    "```python\n",
    "class Dice(Dice):\n",
    "    def __init__(self, sides: int, num: int = 1, modifier: int = 0):\n",
    "        super().__init__(sides, num)\n",
    "        self.modifier = modifier\n",
    "    \n",
    "    def __add__(self, other):\n",
    "        return self.__class__(self.sides, self.num, other)\n",
    "    \n",
    "    def __str__(self):\n",
    "        modifier = \"\"\n",
    "        if self.modifier > 0:\n",
    "            modifier = f\" + {self.modifier}\"\n",
    "        elif self.modifier < 0:\n",
    "            modifier = f\" - {abs(modifier)}\"\n",
    "        return super().__str__() + modifier\n",
    "    \n",
    "    def roll(self):\n",
    "        return super().roll() + self.modifier\n",
    "    \n",
    "    # Det kan bli litt kjedelig å skrive `.roll()` hele tiden.\n",
    "    # Hva med bare ()?\n",
    "    def __call__(self):\n",
    "        return self.roll()\n",
    "```\n",
    "\n",
    "Eksempler\n",
    "\n",
    "```python\n",
    "\n",
    "die = 2 * Dice(12) + 2\n",
    "```"
   ]
  },
  {
   "cell_type": "markdown",
   "metadata": {
    "slideshow": {
     "slide_type": "slide"
    }
   },
   "source": [
    "## 🧙‍♂️Tid for magi\n",
    "\n",
    "\n",
    "Ville det ikke vært fint å kunne skrive\n",
    "\n",
    "```python\n",
    "Dice._4d12\n",
    "```\n",
    "\n",
    "og så fått printet resultatet?"
   ]
  },
  {
   "cell_type": "code",
   "execution_count": null,
   "metadata": {
    "slideshow": {
     "slide_type": "fragment"
    }
   },
   "outputs": [],
   "source": [
    "import re"
   ]
  },
  {
   "cell_type": "code",
   "execution_count": null,
   "metadata": {
    "slideshow": {
     "slide_type": "fragment"
    }
   },
   "outputs": [],
   "source": [
    "_regex = re.compile(r\"^(?P<number>\\d+)?d(?P<sides>\\d+) *((?P<sign>[-+]) *(?P<modifier>\\d+)?)?$\")\n",
    "_Dice = Dice\n",
    "\n",
    "def parse(text: str) -> Dice:\n",
    "    match = _regex.match(text)\n",
    "    if match is None:\n",
    "        raise ValueError(\"Invalid format\")\n",
    "    match = match.groupdict()\n",
    "    sides = int(match[\"sides\"])\n",
    "    number = int(match.get(\"number\", 1))\n",
    "    modifier = int(match.get(\"modifier\", 0))\n",
    "    if match[\"sign\"] == \"-\":\n",
    "        modifier = -modifier\n",
    "    return _Dice(sides, number, modifier)"
   ]
  },
  {
   "cell_type": "markdown",
   "metadata": {
    "slideshow": {
     "slide_type": "notes"
    }
   },
   "source": [
    "Her er det et lite regulært uttrykk. Det er ikke særlig magisk (når en skriver det selv og husker hva det gjør)"
   ]
  },
  {
   "cell_type": "code",
   "execution_count": null,
   "metadata": {
    "slideshow": {
     "slide_type": "subslide"
    }
   },
   "outputs": [],
   "source": []
  },
  {
   "cell_type": "markdown",
   "metadata": {
    "slideshow": {
     "slide_type": "notes"
    }
   },
   "source": [
    "```python\n",
    "class Dice:\n",
    "    def __getattr__(self, item: str):\n",
    "        item = (\n",
    "            item\n",
    "            .removeprefix(\"_\")\n",
    "            .replace(\"_\", \" \")\n",
    "            .replace(\"p\", \"+\")\n",
    "            .replace(\"m\", \"-\")\n",
    "        )\n",
    "        return parse(item)\n",
    "```\n",
    "\n",
    "Her må vi dessverre instansiere et objekt for at det skal fungere som forventet, men det finnes en løsning.\n",
    "Siden `__getattr__` er definert på klassen, men brukt på instanser, trenger vi bare å gjøre tilsvarende for denne klassen.\n",
    "\n",
    "```python\n",
    "class Meta(type):\n",
    "    def __getattr__(cls, item: str):\n",
    "        item = (\n",
    "            item\n",
    "            .removeprefix(\"_\")\n",
    "            .replace(\"_\", \" \")\n",
    "            .replace(\"p\", \"+\")\n",
    "            .replace(\"m\", \"-\")\n",
    "        )\n",
    "        return parse(item)\n",
    "\n",
    "class Dice(metaclass=Meta):\n",
    "    pass\n",
    "```"
   ]
  }
 ],
 "metadata": {
  "celltoolbar": "Slideshow",
  "kernelspec": {
   "display_name": "Python 3 (ipykernel)",
   "language": "python",
   "name": "python3"
  },
  "language_info": {
   "codemirror_mode": {
    "name": "ipython",
    "version": 3
   },
   "file_extension": ".py",
   "mimetype": "text/x-python",
   "name": "python",
   "nbconvert_exporter": "python",
   "pygments_lexer": "ipython3",
   "version": "3.11.2"
  }
 },
 "nbformat": 4,
 "nbformat_minor": 1
}
